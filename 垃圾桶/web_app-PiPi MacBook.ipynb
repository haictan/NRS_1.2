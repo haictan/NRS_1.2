{
 "cells": [
  {
   "cell_type": "code",
   "execution_count": null,
   "metadata": {},
   "outputs": [],
   "source": [
    "from IPython.display import display, HTML, clear_output\n",
    "import ipywidgets as widgets\n",
    "import lang_strings as la\n",
    "import state_bar\n",
    "import menu\n",
    "import ui_adjust\n",
    "import ui_measure\n",
    "import ui_principle\n",
    "\n",
    "#创建显示区\n",
    "output_state = widgets.Output()\n",
    "output_menu = widgets.Output()\n",
    "output_ui = widgets.Output()\n",
    "\n",
    "#更新状态栏\n",
    "def state_bar_refresh():\n",
    "    with output_state:\n",
    "        clear_output(wait=True)\n",
    "        display(state_bar.state_bar)\n",
    "\n",
    "#更新菜单栏\n",
    "def menu_refresh():\n",
    "    with output_menu:\n",
    "        clear_output(wait=True)\n",
    "        display(menu.menu)\n",
    "\n",
    "#UI切换\n",
    "def ui_switch(state):\n",
    "    with output_ui:\n",
    "        clear_output(wait=True)\n",
    "        if state == la.str_menu_principle:\n",
    "            display(ui_principle.ui)\n",
    "        elif state == la.str_menu_adjust:\n",
    "            display(ui_adjust.ui)\n",
    "        elif state == la.str_menu_measure:\n",
    "            display(ui_measure.ui)\n",
    "        else:\n",
    "            display(widgets.Text(value = '正在施工...'))\n",
    "\n",
    "#状态切换触发UI更新\n",
    "ui = widgets.interactive_output(\n",
    "    ui_switch, {\n",
    "    'state': state_bar.mode_text,\n",
    "    }\n",
    ")\n",
    "\n",
    "#初始化\n",
    "display(output_state, output_menu, output_ui)\n",
    "state_bar_refresh()\n",
    "menu_refresh()\n",
    "ui_switch(la.str_menu_adjust)"
   ]
  }
 ],
 "metadata": {
  "kernelspec": {
   "display_name": "Python 3",
   "language": "python",
   "name": "python3"
  },
  "language_info": {
   "codemirror_mode": {
    "name": "ipython",
    "version": 3
   },
   "file_extension": ".py",
   "mimetype": "text/x-python",
   "name": "python",
   "nbconvert_exporter": "python",
   "pygments_lexer": "ipython3",
   "version": "3.9.6"
  }
 },
 "nbformat": 4,
 "nbformat_minor": 2
}
